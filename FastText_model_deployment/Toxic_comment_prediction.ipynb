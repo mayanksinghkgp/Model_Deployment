{
 "cells": [
  {
   "cell_type": "code",
   "execution_count": 14,
   "id": "b23fdf60",
   "metadata": {},
   "outputs": [],
   "source": [
    "import ktrain\n",
    "import os\n",
    "\n",
    "os.environ[\"CUDA_VISIBLE_DEVICES\"] = \"-1\"\n",
    "\n",
    "predictor = ktrain.load_predictor(\"toxic_fasttext\")\n",
    "\n",
    "def get_prediction(x):\n",
    "    pred = predictor.predict([x])\n",
    "    return pred[0]"
   ]
  },
  {
   "cell_type": "code",
   "execution_count": 21,
   "id": "9a07bdb2",
   "metadata": {},
   "outputs": [],
   "source": [
    "data = \"So Jim Burton, child molesting faggot, I see you are still with us for yet another day, making a total buffoon out of yourself as usual.  I don't know what is sadder here - you, or the extreme hypocritical arrogance you show by lecturing the world about \"\"ethical principles\"\" for your claimed \"\"rights\"\" to abuse our children.  You have no ethical principles to save your life, but it's exactly as the Roman poet said, isn't it? \"\"the harlot doth always rebuke the chaste.\"\"  Will you ever drop dead, we might all breathe a little easier for our kids sake. You truly disgust me with every word you write.  \""
   ]
  },
  {
   "cell_type": "code",
   "execution_count": 22,
   "id": "8a1ffefa",
   "metadata": {},
   "outputs": [
    {
     "data": {
      "text/plain": [
       "[('toxic', 0.7251374),\n",
       " ('severe_toxic', 0.11828786),\n",
       " ('obscene', 0.5319697),\n",
       " ('threat', 0.072404206),\n",
       " ('insult', 0.5025074),\n",
       " ('identity_hate', 0.18394095)]"
      ]
     },
     "execution_count": 22,
     "metadata": {},
     "output_type": "execute_result"
    }
   ],
   "source": [
    "pred = get_prediction(data)\n",
    "pred"
   ]
  },
  {
   "cell_type": "code",
   "execution_count": null,
   "id": "1507603d",
   "metadata": {},
   "outputs": [],
   "source": []
  },
  {
   "cell_type": "code",
   "execution_count": null,
   "id": "e036e88e",
   "metadata": {},
   "outputs": [],
   "source": []
  },
  {
   "cell_type": "code",
   "execution_count": null,
   "id": "952bc020",
   "metadata": {},
   "outputs": [],
   "source": []
  },
  {
   "cell_type": "code",
   "execution_count": null,
   "id": "37dd5639",
   "metadata": {},
   "outputs": [],
   "source": []
  }
 ],
 "metadata": {
  "kernelspec": {
   "display_name": "Python 3",
   "language": "python",
   "name": "python3"
  },
  "language_info": {
   "codemirror_mode": {
    "name": "ipython",
    "version": 3
   },
   "file_extension": ".py",
   "mimetype": "text/x-python",
   "name": "python",
   "nbconvert_exporter": "python",
   "pygments_lexer": "ipython3",
   "version": "3.7.10"
  }
 },
 "nbformat": 4,
 "nbformat_minor": 5
}
