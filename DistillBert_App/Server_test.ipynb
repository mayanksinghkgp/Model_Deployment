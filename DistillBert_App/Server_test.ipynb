{
 "cells": [
  {
   "cell_type": "code",
   "execution_count": 1,
   "id": "5b6dab80",
   "metadata": {},
   "outputs": [],
   "source": [
    "import requests\n",
    "import json"
   ]
  },
  {
   "cell_type": "code",
   "execution_count": 3,
   "id": "ea4fc1f8",
   "metadata": {},
   "outputs": [
    {
     "name": "stdout",
     "output_type": "stream",
     "text": [
      "<Response [200]>\n",
      "Ubuntu Server Online\n"
     ]
    }
   ],
   "source": [
    "host = 'http://3.138.136.31/'\n",
    "\n",
    "port = 5000\n",
    "\n",
    "url = \"http://3.138.136.31:5000/\"\n",
    "x = requests.get(url)\n",
    "print(x)\n",
    "print(x.text)"
   ]
  },
  {
   "cell_type": "code",
   "execution_count": 4,
   "id": "5de502ca",
   "metadata": {},
   "outputs": [
    {
     "name": "stdout",
     "output_type": "stream",
     "text": [
      "<Response [200]>\n",
      "{\n",
      "  \"result\": \"neg\"\n",
      "}\n",
      "\n"
     ]
    }
   ],
   "source": [
    "url = \"http://3.138.136.31:5000/get_sentiment\"\n",
    "data = {'Review': 'Never have i ever wasted 120 minutes of my life for a experience as horrible as this movie offers.'}\n",
    "data = json.dumps(data)\n",
    "x = requests.post(url, data)\n",
    "print(x)\n",
    "print(x.text)"
   ]
  },
  {
   "cell_type": "code",
   "execution_count": null,
   "id": "33641647",
   "metadata": {},
   "outputs": [],
   "source": []
  }
 ],
 "metadata": {
  "kernelspec": {
   "display_name": "Python 3",
   "language": "python",
   "name": "python3"
  },
  "language_info": {
   "codemirror_mode": {
    "name": "ipython",
    "version": 3
   },
   "file_extension": ".py",
   "mimetype": "text/x-python",
   "name": "python",
   "nbconvert_exporter": "python",
   "pygments_lexer": "ipython3",
   "version": "3.7.10"
  }
 },
 "nbformat": 4,
 "nbformat_minor": 5
}
