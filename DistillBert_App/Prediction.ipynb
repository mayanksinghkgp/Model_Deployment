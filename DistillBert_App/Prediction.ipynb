{
 "cells": [
  {
   "cell_type": "code",
   "execution_count": 1,
   "id": "a9e01d1e",
   "metadata": {},
   "outputs": [],
   "source": [
    "import ktrain"
   ]
  },
  {
   "cell_type": "code",
   "execution_count": 2,
   "id": "13898d89",
   "metadata": {},
   "outputs": [],
   "source": [
    "predictor = ktrain.load_predictor('distillbert')"
   ]
  },
  {
   "cell_type": "code",
   "execution_count": 6,
   "id": "4911a598",
   "metadata": {},
   "outputs": [],
   "source": [
    "data = ['''This is an anime if you like action and a really sad story. \n",
    "        The characters in this anime are so good and each one I know you will like. \n",
    "        The soundtrack in this anime is one of the best soundtracks I have ever heard in my life.''']"
   ]
  },
  {
   "cell_type": "code",
   "execution_count": 8,
   "id": "f694e5e3",
   "metadata": {},
   "outputs": [
    {
     "data": {
      "text/plain": [
       "['pos']"
      ]
     },
     "execution_count": 8,
     "metadata": {},
     "output_type": "execute_result"
    }
   ],
   "source": [
    "predictor.predict(data)"
   ]
  },
  {
   "cell_type": "code",
   "execution_count": 7,
   "id": "8983c940",
   "metadata": {},
   "outputs": [
    {
     "name": "stdout",
     "output_type": "stream",
     "text": [
      "177 ms ± 18.2 ms per loop (mean ± std. dev. of 7 runs, 1 loop each)\n"
     ]
    }
   ],
   "source": [
    "%%timeit\n",
    "predictor.predict(data)"
   ]
  },
  {
   "cell_type": "code",
   "execution_count": null,
   "id": "7afbd291",
   "metadata": {},
   "outputs": [],
   "source": []
  },
  {
   "cell_type": "code",
   "execution_count": 9,
   "id": "19e9ab64",
   "metadata": {},
   "outputs": [],
   "source": [
    "import requests\n",
    "import json"
   ]
  },
  {
   "cell_type": "code",
   "execution_count": 17,
   "id": "f48c0b0b",
   "metadata": {},
   "outputs": [
    {
     "name": "stdout",
     "output_type": "stream",
     "text": [
      "<Response [200]>\n",
      "Server Online\n"
     ]
    }
   ],
   "source": [
    "host = 'localhost'\n",
    "\n",
    "port = 5000\n",
    "\n",
    "url = \"http://localhost:5000/\"\n",
    "x = requests.get(url)\n",
    "print(x)\n",
    "print(x.text)"
   ]
  },
  {
   "cell_type": "code",
   "execution_count": 18,
   "id": "51745469",
   "metadata": {},
   "outputs": [],
   "source": [
    "url = \"http://localhost:5000/\"\n",
    "\n",
    "data = {'Review': 'This movie is great. I have enjoyed it.'}\n",
    "data = json.dumps(data)"
   ]
  },
  {
   "cell_type": "code",
   "execution_count": 19,
   "id": "bc471513",
   "metadata": {},
   "outputs": [
    {
     "data": {
      "text/plain": [
       "'{\"Review\": \"This movie is great. I have enjoyed it.\"}'"
      ]
     },
     "execution_count": 19,
     "metadata": {},
     "output_type": "execute_result"
    }
   ],
   "source": [
    "data"
   ]
  },
  {
   "cell_type": "code",
   "execution_count": 20,
   "id": "d1f11484",
   "metadata": {},
   "outputs": [
    {
     "name": "stdout",
     "output_type": "stream",
     "text": [
      "<Response [200]>\n",
      "{\n",
      "  \"result\": \"pos\"\n",
      "}\n",
      "\n"
     ]
    }
   ],
   "source": [
    "url = \"http://localhost:5000/get_sentiment\"\n",
    "x = requests.post(url, data)\n",
    "print(x)\n",
    "print(x.text)"
   ]
  },
  {
   "cell_type": "code",
   "execution_count": 22,
   "id": "91a43567",
   "metadata": {},
   "outputs": [
    {
     "name": "stdout",
     "output_type": "stream",
     "text": [
      "<Response [200]>\n",
      "{\n",
      "  \"result\": \"neg\"\n",
      "}\n",
      "\n"
     ]
    }
   ],
   "source": [
    "url = \"http://localhost:5000/get_sentiment\"\n",
    "data = {'Review': 'Never have i ever wasted 120 minutes of my life for a experience as horrible as this movie offers.'}\n",
    "data = json.dumps(data)\n",
    "x = requests.post(url, data)\n",
    "print(x)\n",
    "print(x.text)"
   ]
  },
  {
   "cell_type": "code",
   "execution_count": 23,
   "id": "b21939c9",
   "metadata": {},
   "outputs": [],
   "source": [
    "response = json.loads(x.text)"
   ]
  },
  {
   "cell_type": "code",
   "execution_count": 24,
   "id": "0d69d683",
   "metadata": {},
   "outputs": [
    {
     "data": {
      "text/plain": [
       "'neg'"
      ]
     },
     "execution_count": 24,
     "metadata": {},
     "output_type": "execute_result"
    }
   ],
   "source": [
    "response['result']"
   ]
  },
  {
   "cell_type": "code",
   "execution_count": null,
   "id": "733d815d",
   "metadata": {},
   "outputs": [],
   "source": []
  }
 ],
 "metadata": {
  "kernelspec": {
   "display_name": "Python 3",
   "language": "python",
   "name": "python3"
  },
  "language_info": {
   "codemirror_mode": {
    "name": "ipython",
    "version": 3
   },
   "file_extension": ".py",
   "mimetype": "text/x-python",
   "name": "python",
   "nbconvert_exporter": "python",
   "pygments_lexer": "ipython3",
   "version": "3.7.10"
  }
 },
 "nbformat": 4,
 "nbformat_minor": 5
}
