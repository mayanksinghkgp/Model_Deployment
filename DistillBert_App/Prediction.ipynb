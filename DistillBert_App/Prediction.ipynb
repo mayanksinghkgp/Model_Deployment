{
 "cells": [
  {
   "cell_type": "code",
   "execution_count": 1,
   "id": "64895f90",
   "metadata": {},
   "outputs": [],
   "source": [
    "import ktrain"
   ]
  },
  {
   "cell_type": "code",
   "execution_count": 2,
   "id": "a4453b2d",
   "metadata": {},
   "outputs": [],
   "source": [
    "predictor = ktrain.load_predictor('distillbert')"
   ]
  },
  {
   "cell_type": "code",
   "execution_count": 6,
   "id": "ea6e23a5",
   "metadata": {},
   "outputs": [],
   "source": [
    "data = ['''This is an anime if you like action and a really sad story. \n",
    "        The characters in this anime are so good and each one I know you will like. \n",
    "        The soundtrack in this anime is one of the best soundtracks I have ever heard in my life.''']"
   ]
  },
  {
   "cell_type": "code",
   "execution_count": 8,
   "id": "fafe509d",
   "metadata": {},
   "outputs": [
    {
     "data": {
      "text/plain": [
       "['pos']"
      ]
     },
     "execution_count": 8,
     "metadata": {},
     "output_type": "execute_result"
    }
   ],
   "source": [
    "predictor.predict(data)"
   ]
  },
  {
   "cell_type": "code",
   "execution_count": 7,
   "id": "752d431b",
   "metadata": {},
   "outputs": [
    {
     "name": "stdout",
     "output_type": "stream",
     "text": [
      "177 ms ± 18.2 ms per loop (mean ± std. dev. of 7 runs, 1 loop each)\n"
     ]
    }
   ],
   "source": [
    "%%timeit\n",
    "predictor.predict(data)"
   ]
  },
  {
   "cell_type": "code",
   "execution_count": null,
   "id": "28441b04",
   "metadata": {},
   "outputs": [],
   "source": []
  },
  {
   "cell_type": "code",
   "execution_count": null,
   "id": "866fe7d3",
   "metadata": {},
   "outputs": [],
   "source": []
  },
  {
   "cell_type": "code",
   "execution_count": null,
   "id": "af5a3998",
   "metadata": {},
   "outputs": [],
   "source": []
  },
  {
   "cell_type": "code",
   "execution_count": null,
   "id": "8ead6427",
   "metadata": {},
   "outputs": [],
   "source": []
  }
 ],
 "metadata": {
  "kernelspec": {
   "display_name": "Python 3",
   "language": "python",
   "name": "python3"
  },
  "language_info": {
   "codemirror_mode": {
    "name": "ipython",
    "version": 3
   },
   "file_extension": ".py",
   "mimetype": "text/x-python",
   "name": "python",
   "nbconvert_exporter": "python",
   "pygments_lexer": "ipython3",
   "version": "3.7.10"
  }
 },
 "nbformat": 4,
 "nbformat_minor": 5
}
